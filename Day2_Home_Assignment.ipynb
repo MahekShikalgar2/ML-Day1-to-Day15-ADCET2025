{
  "cells": [
    {
      "cell_type": "markdown",
      "metadata": {},
      "source": [
        "# Day 2 – Home Assignment\n",
        "## Python Dictionary and Set Operations\n"
      ]
    },
    {
      "cell_type": "code",
      "execution_count": null,
      "metadata": {},
      "outputs": [],
      "source": [
        "# Dictionary Built-in Functions\n",
        "# clear(), copy(), fromkeys(), items(), keys(), pop(), popitem(), update(), values()\n",
        "d = {'a': 1, 'b': 2, 'c': 3}\n",
        "print(d.items())\n",
        "print(d.keys())\n",
        "d.update({'d': 4})\n",
        "print(d)\n",
        "print(d.pop('b'))\n",
        "print(d)\n",
        "d.clear()\n",
        "print(d)\n"
      ]
    },
    {
      "cell_type": "code",
      "execution_count": null,
      "metadata": {},
      "outputs": [],
      "source": [
        "# Sets and Operations\n",
        "s1 = {\"Rohan\", \"Physics\", 21, 69.75}\n",
        "s2 = {1, 2, 3, 4, 5}\n",
        "s3 = {\"a\", \"b\", \"c\", \"d\", \"e\"}\n",
        "s4 = {25.50, True, -55, 1+2j}\n",
        "print(s1)\n",
        "print(s2)\n",
        "print(s3)\n",
        "print(s4)\n"
      ]
    },
    {
      "cell_type": "code",
      "execution_count": null,
      "metadata": {},
      "outputs": [],
      "source": [
        "# Convert string to set\n",
        "string = \"helloworldinpythonprogramming\"\n",
        "s5 = set(string)\n",
        "print(s5)\n"
      ]
    },
    {
      "cell_type": "code",
      "execution_count": null,
      "metadata": {},
      "outputs": [],
      "source": [
        "# Invalid set: lists are not hashable\n",
        "# s1 = {1, 2, [3, 4, 5], 3, 0, 1, 9}  # This will cause TypeError\n"
      ]
    },
    {
      "cell_type": "code",
      "execution_count": null,
      "metadata": {},
      "outputs": [],
      "source": [
        "# Set Membership and Looping\n",
        "langs = {\"C\", \"C++\", \"Java\", \"Python\"}\n",
        "for l in langs:\n",
        "    print(l)\n",
        "\n",
        "print(\"PHP\" in langs)\n",
        "print(\"Java\" in langs)\n"
      ]
    },
    {
      "cell_type": "code",
      "execution_count": null,
      "metadata": {},
      "outputs": [],
      "source": [
        "# Set Methods: add, union, remove, discard\n",
        "langs.add(\"Golang\")\n",
        "print(langs)\n",
        "\n",
        "lang1 = {\"C\", \"C++\", \"Java\", \"Python\"}\n",
        "lang2 = {\"PHP\", \"C#\", \"Perl\"}\n",
        "lang3 = lang1.union(lang2)\n",
        "print(lang3)\n"
      ]
    },
    {
      "cell_type": "code",
      "execution_count": null,
      "metadata": {},
      "outputs": [],
      "source": [
        "set1 = set(\"Hello\")\n",
        "set2 = set1.union(\"World\")\n",
        "print(set2)\n",
        "\n",
        "lang1.remove(\"Java\")\n",
        "print(lang1)\n",
        "\n",
        "print(\"Set before discarding C++:\", lang1)\n",
        "lang1.discard(\"C++\")\n",
        "print(\"Set after discarding C++:\", lang1)\n",
        "\n",
        "print(\"Set before discarding PHP:\", lang1)\n",
        "lang1.discard(\"PHP\")\n",
        "print(\"Set after discarding PHP:\", lang1)\n"
      ]
    },
    {
      "cell_type": "markdown",
      "metadata": {},
      "source": [
        "### Set Operations to Practice\n",
        "- pop()\n",
        "- union()\n",
        "- difference()\n",
        "- intersection()\n",
        "- clear()\n",
        "- update()\n",
        "- isdisjoint()\n",
        "- issubset()\n",
        "- issuperset()\n"
      ]
    }
  ],
  "metadata": {
    "kernelspec": {
      "display_name": "Python 3",
      "language": "python",
      "name": "python3"
    },
    "language_info": {
      "name": "python",
      "version": "3.8"
    }
  },
  "nbformat": 4,
  "nbformat_minor": 2
}
