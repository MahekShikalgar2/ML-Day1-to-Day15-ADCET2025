{
  "cells": [
    {
      "cell_type": "markdown",
      "source": [
        "Day 4"
      ],
      "metadata": {
        "id": "xcjOAvUxW2Yo"
      },
      "id": "xcjOAvUxW2Yo"
    },
    {
      "cell_type": "code",
      "source": [
        "# Importing Libraries\n",
        "import numpy as np\n",
        "import pandas as pd\n",
        "import matplotlib.pyplot as plt"
      ],
      "metadata": {
        "id": "HOmQM8P-lDX_"
      },
      "id": "HOmQM8P-lDX_",
      "execution_count": null,
      "outputs": []
    },
    {
      "cell_type": "code",
      "source": [
        "\n",
        "# Version Check\n",
        "print(pd.__version__)"
      ],
      "metadata": {
        "colab": {
          "base_uri": "https://localhost:8080/"
        },
        "id": "E2Yr8STUlI_7",
        "outputId": "3dc02ffe-27a1-4c58-fe96-975f15b0460b"
      },
      "id": "E2Yr8STUlI_7",
      "execution_count": null,
      "outputs": [
        {
          "output_type": "stream",
          "name": "stdout",
          "text": [
            "2.2.2\n"
          ]
        }
      ]
    },
    {
      "cell_type": "code",
      "source": [
        "# Series in Pandas\n",
        "ages = np.array([13,25,19])\n",
        "series1 = pd.Series(ages)\n",
        "print(series1)\n",
        "\n",
        "series2 = pd.Series(ages, index=[\"Emma\",\"Shweta\",\"Sachin\"])\n",
        "print(series2)"
      ],
      "metadata": {
        "colab": {
          "base_uri": "https://localhost:8080/"
        },
        "id": "KrxHVe8flNTD",
        "outputId": "3c0469da-d9ef-441b-8159-690ef159623b"
      },
      "id": "KrxHVe8flNTD",
      "execution_count": null,
      "outputs": [
        {
          "output_type": "stream",
          "name": "stdout",
          "text": [
            "0    13\n",
            "1    25\n",
            "2    19\n",
            "dtype: int64\n",
            "Emma      13\n",
            "Shweta    25\n",
            "Sachin    19\n",
            "dtype: int64\n"
          ]
        }
      ]
    },
    {
      "cell_type": "code",
      "source": [
        "# DataFrame\n",
        "df = pd.DataFrame([\n",
        "    ['John Smith','123 Main Street', 34],\n",
        "    ['Jane Dose', '456 Maple Avenue',28],\n",
        "    ['Joey Daniels','789 Broadway', 51]\n",
        "], columns=['Name','Address','Age'])\n",
        "print(df)"
      ],
      "metadata": {
        "colab": {
          "base_uri": "https://localhost:8080/"
        },
        "id": "GQBVminvlSYT",
        "outputId": "a4b7d2a1-ec46-42d9-b9fe-985818da2858"
      },
      "id": "GQBVminvlSYT",
      "execution_count": null,
      "outputs": [
        {
          "output_type": "stream",
          "name": "stdout",
          "text": [
            "           Name           Address  Age\n",
            "0    John Smith   123 Main Street   34\n",
            "1     Jane Dose  456 Maple Avenue   28\n",
            "2  Joey Daniels      789 Broadway   51\n"
          ]
        }
      ]
    },
    {
      "cell_type": "code",
      "source": [
        "# Set index\n",
        "print(df.set_index('Name'))"
      ],
      "metadata": {
        "colab": {
          "base_uri": "https://localhost:8080/"
        },
        "id": "W_19n2KGlW2h",
        "outputId": "5b38743d-6cb4-4916-8e46-dfbdea902c18"
      },
      "id": "W_19n2KGlW2h",
      "execution_count": null,
      "outputs": [
        {
          "output_type": "stream",
          "name": "stdout",
          "text": [
            "                       Address  Age\n",
            "Name                               \n",
            "John Smith     123 Main Street   34\n",
            "Jane Dose     456 Maple Avenue   28\n",
            "Joey Daniels      789 Broadway   51\n"
          ]
        }
      ]
    },
    {
      "cell_type": "code",
      "source": [
        "# New DataFrame Example\n",
        "df = pd.DataFrame({\n",
        "    \"Name\": [\n",
        "        \"Brad, Mr. Owen Harris\",\n",
        "        \"Allen, Mr. William Henry\",\n",
        "        \"Bonnell, Miss. Elizabeth\"\n",
        "    ],\n",
        "    \"Age\": [22, 35, 58],\n",
        "    \"Gender\": [\"male\", \"male\", \"female\"]\n",
        "})\n",
        "print(df)"
      ],
      "metadata": {
        "id": "v9e-QGQylioI",
        "outputId": "f2ef74a6-39fb-4868-c128-80c5001a211f",
        "colab": {
          "base_uri": "https://localhost:8080/"
        }
      },
      "id": "v9e-QGQylioI",
      "execution_count": null,
      "outputs": [
        {
          "output_type": "stream",
          "name": "stdout",
          "text": [
            "                       Name  Age  Gender\n",
            "0     Brad, Mr. Owen Harris   22    male\n",
            "1  Allen, Mr. William Henry   35    male\n",
            "2  Bonnell, Miss. Elizabeth   58  female\n"
          ]
        }
      ]
    }
  ],
  "metadata": {
    "colab": {
      "provenance": []
    },
    "language_info": {
      "name": "python"
    },
    "kernelspec": {
      "name": "python3",
      "display_name": "Python 3"
    }
  },
  "nbformat": 4,
  "nbformat_minor": 5
}