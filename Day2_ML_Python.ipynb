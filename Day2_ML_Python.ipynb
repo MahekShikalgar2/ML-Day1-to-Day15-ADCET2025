{
  "cells": [
    {
      "cell_type": "markdown",
      "metadata": {
        "id": "wsZ3dqreC6Im"
      },
      "source": [
        "Day 2 – Python Collections: List, Tuple, Dictionary"
      ]
    },
    {
      "cell_type": "code",
      "execution_count": null,
      "metadata": {
        "colab": {
          "base_uri": "https://localhost:8080/"
        },
        "id": "2VAaFVqmGOa2",
        "outputId": "f3ba1790-903d-41b0-97ea-5103c12753e3"
      },
      "outputs": [
        {
          "name": "stdout",
          "output_type": "stream",
          "text": [
            "List: [0, 1, 2, 3, 4, 5]\n",
            "Slicing [:4]: [0, 1, 2, 3]\n"
          ]
        }
      ],
      "source": [
        "# LISTS\n",
        "list1 = [0, 1, 2, 3, 4, 5]\n",
        "print(\"List:\", list1)\n",
        "print(\"Slicing [:4]:\", list1[:4])\n"
      ]
    },
    {
      "cell_type": "code",
      "execution_count": null,
      "metadata": {
        "colab": {
          "background_save": true
        },
        "id": "l-BhA2AyGVw5",
        "outputId": "fba7dd66-bad4-4aa4-9eae-51b950f907a0"
      },
      "outputs": [
        {
          "name": "stdout",
          "output_type": "stream",
          "text": [
            "[1, 2, 'Python', 'Program', 15.9]\n",
            "['Amy', 'Ryan', 'Henry', 'Emma']\n",
            "Types: <class 'list'> <class 'list'>\n",
            "Are lists equal? False\n"
          ]
        }
      ],
      "source": [
        "list1 = [1, 2, \"Python\", \"Program\", 15.9]\n",
        "list2 = [\"Amy\", \"Ryan\", \"Henry\", \"Emma\"]\n",
        "print(list1)\n",
        "print(list2)\n",
        "print(\"Types:\", type(list1), type(list2))\n",
        "print(\"Are lists equal?\", list1 == list2)"
      ]
    },
    {
      "cell_type": "code",
      "source": [
        "# Employee data example\n",
        "emp = [\"john\", 102, \"USA\"]\n",
        "Dep1 = [\"CS\", 10]\n",
        "Dep2 = [\"IT\", 11]\n",
        "HOD_CS = [10, \"Holding\"]\n",
        "HOD_IT = [11, \"Bewon\"]\n",
        "\n",
        "print(\"Employee:\", emp)\n",
        "print(\"Departments:\", Dep1, Dep2)\n",
        "print(\"CS HOD:\", HOD_CS)\n",
        "print(\"IT HOD:\", HOD_IT)\n",
        "\n",
        "# Indexing and slicing\n",
        "print(list1[4])\n",
        "print(list1[-1])\n",
        "print(list1[-3:])\n",
        "print(list1[:-1])\n",
        "print(list1[-3:-1])\n",
        "\n"
      ],
      "metadata": {
        "colab": {
          "base_uri": "https://localhost:8080/"
        },
        "id": "Nr3g013Ztq1R",
        "outputId": "fba7700c-7947-4c61-a8a9-b470b8306368"
      },
      "execution_count": 13,
      "outputs": [
        {
          "output_type": "stream",
          "name": "stdout",
          "text": [
            "Employee: ['john', 102, 'USA']\n",
            "Departments: ['CS', 10] ['IT', 11]\n",
            "CS HOD: [10, 'Holding']\n",
            "IT HOD: [11, 'Bewon']\n",
            "500\n",
            "500\n",
            "[300, 400, 500]\n",
            "[100, 200, 300, 400]\n",
            "[300, 400]\n"
          ]
        }
      ]
    },
    {
      "cell_type": "code",
      "source": [
        "# List Operations\n",
        "list1 = [12, 14, 16, 28, 20]\n",
        "print(\"Repetition:\", list1 * 2)\n",
        "\n",
        "list2 = [9, 10, 32, 54, 86]\n",
        "print(\"Concatenation:\", list1 + list2)\n",
        "print(\"Length:\", len(list1 + list2))\n",
        "\n",
        "print(\"Iteration:\")\n",
        "for i in list1:\n",
        "    print(i)"
      ],
      "metadata": {
        "colab": {
          "base_uri": "https://localhost:8080/"
        },
        "id": "PM45_v-BuGjh",
        "outputId": "e7fb70a3-b3f7-44d5-9adb-5a763df69ae5"
      },
      "execution_count": 3,
      "outputs": [
        {
          "output_type": "stream",
          "name": "stdout",
          "text": [
            "Repetition: [12, 14, 16, 28, 20, 12, 14, 16, 28, 20]\n",
            "Concatenation: [12, 14, 16, 28, 20, 9, 10, 32, 54, 86]\n",
            "Length: 10\n",
            "Iteration:\n",
            "12\n",
            "14\n",
            "16\n",
            "28\n",
            "20\n"
          ]
        }
      ]
    },
    {
      "cell_type": "code",
      "source": [
        "# Membership\n",
        "list1 = [100, 200, 300, 400, 500]\n",
        "print(600 in list1)\n",
        "print(700 in list1)\n",
        "print(1040 in list1)\n",
        "print(300 in list1)\n",
        "print(100 in list1)\n",
        "print(500 in list1)"
      ],
      "metadata": {
        "colab": {
          "base_uri": "https://localhost:8080/"
        },
        "id": "QC-FYOb2uJ-u",
        "outputId": "3fc8dc6e-d353-4c05-f9a4-e06f1a11c744"
      },
      "execution_count": 4,
      "outputs": [
        {
          "output_type": "stream",
          "name": "stdout",
          "text": [
            "False\n",
            "False\n",
            "False\n",
            "True\n",
            "True\n",
            "True\n"
          ]
        }
      ]
    },
    {
      "cell_type": "code",
      "source": [
        "# User input into list\n",
        "l = []\n",
        "n = int(input(\"Enter the number of elements in the list: \"))\n",
        "for i in range(n):\n",
        "    l.append(input(\"Enter the element: \"))\n",
        "print(\"List contents:\")\n",
        "for i in l:\n",
        "    print(i, end=\" \")"
      ],
      "metadata": {
        "colab": {
          "base_uri": "https://localhost:8080/"
        },
        "id": "7jPZkutIuNvX",
        "outputId": "9d6ad099-e596-45db-93d7-323438869ed9"
      },
      "execution_count": 5,
      "outputs": [
        {
          "output_type": "stream",
          "name": "stdout",
          "text": [
            "Enter the number of elements in the list: 2\n",
            "Enter the element: 6\n",
            "Enter the element: 5\n",
            "List contents:\n",
            "6 5 "
          ]
        }
      ]
    },
    {
      "cell_type": "code",
      "source": [
        "# TUPLES\n",
        "coral = ('blue coral', 'staghorn coral', 'pillar coral', 'elkhorm coral')\n",
        "print(\"Tuple:\", coral)\n",
        "print(\"Access:\", coral[2])\n",
        "print(\"Reef:\", coral[1])\n",
        "print(\"Slice:\", coral[:3])\n",
        "print(\"Negative slice:\", coral[-3:-1])\n"
      ],
      "metadata": {
        "colab": {
          "base_uri": "https://localhost:8080/"
        },
        "id": "2BAbN-aguUT2",
        "outputId": "41fce2e2-a0d9-475d-f717-914cb43819be"
      },
      "execution_count": 6,
      "outputs": [
        {
          "output_type": "stream",
          "name": "stdout",
          "text": [
            "Tuple: ('blue coral', 'staghorn coral', 'pillar coral', 'elkhorm coral')\n",
            "Access: pillar coral\n",
            "Reef: staghorn coral\n",
            "Slice: ('blue coral', 'staghorn coral', 'pillar coral')\n",
            "Negative slice: ('staghorn coral', 'pillar coral')\n"
          ]
        }
      ]
    },
    {
      "cell_type": "code",
      "source": [
        "numbers = (0, 1, 2, 3, 4, 5, 6, 7, 8, 9, 10, 11, 12)\n",
        "print(\"Odd Index:\", numbers[1:11:2])\n",
        "print(\"Concatenated:\", coral + numbers)\n",
        "print(\"Repeated:\", numbers * 3)"
      ],
      "metadata": {
        "id": "Gk9GTzZquaqQ"
      },
      "execution_count": null,
      "outputs": []
    },
    {
      "cell_type": "code",
      "source": [
        "my_tuple = (1, 2, 3, 4, 2, 4, 2)\n",
        "print(\"Count of 2:\", my_tuple.count(2))\n",
        "print(\"Index of 4:\", my_tuple.index(4))\n",
        "print(\"Length:\", len(my_tuple))\n",
        "print(\"Sorted:\", sorted(my_tuple))\n",
        "print(\"Min:\", min(my_tuple))\n",
        "print(\"Max:\", max(my_tuple))"
      ],
      "metadata": {
        "colab": {
          "base_uri": "https://localhost:8080/"
        },
        "id": "UBgKkpukulNT",
        "outputId": "62db0c92-84f6-4963-8600-6907c2c0762e"
      },
      "execution_count": 7,
      "outputs": [
        {
          "output_type": "stream",
          "name": "stdout",
          "text": [
            "Count of 2: 3\n",
            "Index of 4: 3\n",
            "Length: 7\n",
            "Sorted: [1, 2, 2, 2, 3, 4, 4]\n",
            "Min: 1\n",
            "Max: 4\n"
          ]
        }
      ]
    },
    {
      "cell_type": "code",
      "source": [
        "# Convert list to tuple\n",
        "my_list = [1, 2, 3, 'a', 'b', 'c']\n",
        "my_tuple = tuple(my_list)\n",
        "print(\"Converted to tuple:\", my_tuple)"
      ],
      "metadata": {
        "colab": {
          "base_uri": "https://localhost:8080/"
        },
        "id": "Edx5fybYuopY",
        "outputId": "a4ea8c7d-1e83-4e1e-cc65-435906eca117"
      },
      "execution_count": 8,
      "outputs": [
        {
          "output_type": "stream",
          "name": "stdout",
          "text": [
            "Converted to tuple: (1, 2, 3, 'a', 'b', 'c')\n"
          ]
        }
      ]
    },
    {
      "cell_type": "code",
      "source": [
        "# DICTIONARY\n",
        "d1 = {\"Maharashtra\": \"Mumbai\", \"Gujarat\": \"Gandhinagar\", \"Telangana\": \"Hyderabad\", \"Karnataka\": \"Bangalore\"}\n",
        "numbers = {10: \"Ten\", 20: \"Twenty\", 30: \"Thirty\", 40: \"Forty\"}\n",
        "marks = {\"Savita\": 67, \"Ali\": 88, \"David\": 78, \"Laxman\": 91}\n",
        "print(\"States:\", d1)\n",
        "print(\"Number Words:\", numbers)\n",
        "print(\"Marks:\", marks)"
      ],
      "metadata": {
        "colab": {
          "base_uri": "https://localhost:8080/"
        },
        "id": "YjQcIQrvusCw",
        "outputId": "80ba39b3-4993-453c-ea24-02bb41c132e9"
      },
      "execution_count": 9,
      "outputs": [
        {
          "output_type": "stream",
          "name": "stdout",
          "text": [
            "States: {'Maharashtra': 'Mumbai', 'Gujarat': 'Gandhinagar', 'Telangana': 'Hyderabad', 'Karnataka': 'Bangalore'}\n",
            "Number Words: {10: 'Ten', 20: 'Twenty', 30: 'Thirty', 40: 'Forty'}\n",
            "Marks: {'Savita': 67, 'Ali': 88, 'David': 78, 'Laxman': 91}\n"
          ]
        }
      ]
    },
    {
      "cell_type": "code",
      "source": [
        "# Nested Dictionary\n",
        "d1 = {\"fruit\": [\"Mango\", \"Banana\"], \"flower\": [\"Rose\", \"Lotus\"]}\n",
        "print(\"Nested dict:\", d1)\n"
      ],
      "metadata": {
        "colab": {
          "base_uri": "https://localhost:8080/"
        },
        "id": "PLCQYUxuuuhG",
        "outputId": "713d4c43-dbae-49d5-9837-682fc17539e2"
      },
      "execution_count": 10,
      "outputs": [
        {
          "output_type": "stream",
          "name": "stdout",
          "text": [
            "Nested dict: {'fruit': ['Mango', 'Banana'], 'flower': ['Rose', 'Lotus']}\n"
          ]
        }
      ]
    },
    {
      "cell_type": "code",
      "source": [
        "# Creating dictionaries\n",
        "d1 = dict()\n",
        "d2 = {}\n",
        "print(\"Empty dicts:\", d1, d2)\n",
        "\n",
        "d1 = dict(a=100, b=200)\n",
        "d2 = dict(a='one', b='two')\n",
        "print(\"Dict using constructor:\", d1)\n",
        "print(\"Another dict:\", d2)"
      ],
      "metadata": {
        "colab": {
          "base_uri": "https://localhost:8080/"
        },
        "id": "WgNEg-axu0pf",
        "outputId": "d68783ef-63c0-4549-e268-bcd5452870f0"
      },
      "execution_count": 11,
      "outputs": [
        {
          "output_type": "stream",
          "name": "stdout",
          "text": [
            "Empty dicts: {} {}\n",
            "Dict using constructor: {'a': 100, 'b': 200}\n",
            "Another dict: {'a': 'one', 'b': 'two'}\n"
          ]
        }
      ]
    },
    {
      "cell_type": "code",
      "source": [
        "# Dictionary methods\n",
        "numbers.update({50: \"Fifty\"})\n",
        "print(\"Updated:\", numbers)\n",
        "\n",
        "print(\"Looping through dictionary:\")\n",
        "for x in numbers:\n",
        "    print(x, \":\", numbers[x])"
      ],
      "metadata": {
        "colab": {
          "base_uri": "https://localhost:8080/"
        },
        "id": "0qFja1Bhu3yn",
        "outputId": "0bc41527-10f4-444b-e5dd-391c8f7aab2c"
      },
      "execution_count": 12,
      "outputs": [
        {
          "output_type": "stream",
          "name": "stdout",
          "text": [
            "Updated: {10: 'Ten', 20: 'Twenty', 30: 'Thirty', 40: 'Forty', 50: 'Fifty'}\n",
            "Looping through dictionary:\n",
            "10 : Ten\n",
            "20 : Twenty\n",
            "30 : Thirty\n",
            "40 : Forty\n",
            "50 : Fifty\n"
          ]
        }
      ]
    }
  ],
  "metadata": {
    "colab": {
      "provenance": []
    },
    "kernelspec": {
      "display_name": "Python 3",
      "name": "python3"
    },
    "language_info": {
      "name": "python"
    }
  },
  "nbformat": 4,
  "nbformat_minor": 0
}