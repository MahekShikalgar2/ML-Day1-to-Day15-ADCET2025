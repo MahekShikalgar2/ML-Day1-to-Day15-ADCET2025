# 📚 Day 6 - Titanic & Air Quality Data Analysis

import pandas as pd

# Titanic Dataset Analysis
titanic = pd.read_csv("titanic.csv")
print("🎯 Titanic Dataset Loaded")
print(titanic.head())

# Info and Description
print("\n📦 Titanic Dataset Info:")
print(titanic.info())

print("\n📊 Titanic Dataset Summary:")
print(titanic.describe())

# Age Column Analysis
print("\n👵 Age Column:")
print(titanic["Age"])
print("Type:", type(titanic["Age"]))
print("Shape:", titanic["Age"].shape)

# Median of Age and Fare
print("\n📍 Median of Age and Fare:")
print(titanic[["Age", "Fare"]].median())

# Aggregated Stats
print("\n📉 Aggregated Stats:")
print(titanic.agg({
    "Age": ['min', 'max', 'median', 'skew'],
    "Fare": ['min', 'max', 'median', 'skew']
}))

# Group by Gender
print("\n👨‍👩‍👧‍👦 Average Age by Sex:")
print(titanic[["Sex", "Age"]].groupby("Sex").mean())

# Air Quality Dataset
air_quality = pd.read_csv("air_quality.csv", index_col=0, parse_dates=True)
air_quality["london_mg_per_cubic"] = air_quality["station_london"] * 1.882
air_quality["ratio_paris_antwerp"] = air_quality["station_paris"] / air_quality["station_antwerp"]

# Rename Columns
air_quality = air_quality.rename(columns={
    "station_antwerp": "BETR801",
    "station_paris": "FR04014",
    "station_london": "London Westminster"
})
air_quality.columns = air_quality.columns.str.lower()

print("\n🌬️ Air Quality Data (Transformed):")
print(air_quality.head())